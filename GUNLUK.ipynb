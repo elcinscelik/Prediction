{
 "cells": [
  {
   "cell_type": "code",
   "execution_count": 2,
   "metadata": {},
   "outputs": [],
   "source": [
    "import pandas as pd\n",
    "import numpy as np\n",
    "import seaborn as sns\n",
    "import os\n",
    "import datetime"
   ]
  },
  {
   "cell_type": "code",
   "execution_count": 3,
   "metadata": {},
   "outputs": [],
   "source": [
    "df = pd.read_csv('C:/gunluk.csv')"
   ]
  },
  {
   "cell_type": "code",
   "execution_count": 4,
   "metadata": {},
   "outputs": [
    {
     "data": {
      "text/html": [
       "<div>\n",
       "<style scoped>\n",
       "    .dataframe tbody tr th:only-of-type {\n",
       "        vertical-align: middle;\n",
       "    }\n",
       "\n",
       "    .dataframe tbody tr th {\n",
       "        vertical-align: top;\n",
       "    }\n",
       "\n",
       "    .dataframe thead th {\n",
       "        text-align: right;\n",
       "    }\n",
       "</style>\n",
       "<table border=\"1\" class=\"dataframe\">\n",
       "  <thead>\n",
       "    <tr style=\"text-align: right;\">\n",
       "      <th></th>\n",
       "      <th>GÜN</th>\n",
       "      <th>SICAKLIK</th>\n",
       "      <th>ELEKTRİK</th>\n",
       "      <th>MESKEN</th>\n",
       "      <th>ENDÜSTRİ</th>\n",
       "    </tr>\n",
       "  </thead>\n",
       "  <tbody>\n",
       "    <tr>\n",
       "      <th>0</th>\n",
       "      <td>1/1/2016</td>\n",
       "      <td>-11.1</td>\n",
       "      <td>6888.86</td>\n",
       "      <td>168472.0</td>\n",
       "      <td>89.0</td>\n",
       "    </tr>\n",
       "    <tr>\n",
       "      <th>1</th>\n",
       "      <td>1/2/2016</td>\n",
       "      <td>-14.2</td>\n",
       "      <td>7251.91</td>\n",
       "      <td>168472.0</td>\n",
       "      <td>89.0</td>\n",
       "    </tr>\n",
       "    <tr>\n",
       "      <th>2</th>\n",
       "      <td>1/3/2016</td>\n",
       "      <td>-17.0</td>\n",
       "      <td>7372.09</td>\n",
       "      <td>168472.0</td>\n",
       "      <td>89.0</td>\n",
       "    </tr>\n",
       "    <tr>\n",
       "      <th>3</th>\n",
       "      <td>1/4/2016</td>\n",
       "      <td>-9.5</td>\n",
       "      <td>7445.81</td>\n",
       "      <td>168472.0</td>\n",
       "      <td>89.0</td>\n",
       "    </tr>\n",
       "  </tbody>\n",
       "</table>\n",
       "</div>"
      ],
      "text/plain": [
       "        GÜN  SICAKLIK  ELEKTRİK    MESKEN  ENDÜSTRİ\n",
       "0  1/1/2016     -11.1   6888.86  168472.0      89.0\n",
       "1  1/2/2016     -14.2   7251.91  168472.0      89.0\n",
       "2  1/3/2016     -17.0   7372.09  168472.0      89.0\n",
       "3  1/4/2016      -9.5   7445.81  168472.0      89.0"
      ]
     },
     "execution_count": 4,
     "metadata": {},
     "output_type": "execute_result"
    }
   ],
   "source": [
    "df.head(4)"
   ]
  },
  {
   "cell_type": "code",
   "execution_count": 5,
   "metadata": {},
   "outputs": [],
   "source": [
    "df[\"New_DATE\"] = pd.to_datetime(df[\"GÜN\"]).dt.date"
   ]
  },
  {
   "cell_type": "code",
   "execution_count": 6,
   "metadata": {},
   "outputs": [],
   "source": [
    "df1 = df"
   ]
  },
  {
   "cell_type": "code",
   "execution_count": 7,
   "metadata": {},
   "outputs": [
    {
     "data": {
      "text/html": [
       "<div>\n",
       "<style scoped>\n",
       "    .dataframe tbody tr th:only-of-type {\n",
       "        vertical-align: middle;\n",
       "    }\n",
       "\n",
       "    .dataframe tbody tr th {\n",
       "        vertical-align: top;\n",
       "    }\n",
       "\n",
       "    .dataframe thead th {\n",
       "        text-align: right;\n",
       "    }\n",
       "</style>\n",
       "<table border=\"1\" class=\"dataframe\">\n",
       "  <thead>\n",
       "    <tr style=\"text-align: right;\">\n",
       "      <th></th>\n",
       "      <th>GÜN</th>\n",
       "      <th>SICAKLIK</th>\n",
       "      <th>ELEKTRİK</th>\n",
       "      <th>MESKEN</th>\n",
       "      <th>ENDÜSTRİ</th>\n",
       "      <th>New_DATE</th>\n",
       "    </tr>\n",
       "  </thead>\n",
       "  <tbody>\n",
       "    <tr>\n",
       "      <th>0</th>\n",
       "      <td>1/1/2016</td>\n",
       "      <td>-11.1</td>\n",
       "      <td>6888.86</td>\n",
       "      <td>168472.0</td>\n",
       "      <td>89.0</td>\n",
       "      <td>2016-01-01</td>\n",
       "    </tr>\n",
       "    <tr>\n",
       "      <th>1</th>\n",
       "      <td>1/2/2016</td>\n",
       "      <td>-14.2</td>\n",
       "      <td>7251.91</td>\n",
       "      <td>168472.0</td>\n",
       "      <td>89.0</td>\n",
       "      <td>2016-01-02</td>\n",
       "    </tr>\n",
       "    <tr>\n",
       "      <th>2</th>\n",
       "      <td>1/3/2016</td>\n",
       "      <td>-17.0</td>\n",
       "      <td>7372.09</td>\n",
       "      <td>168472.0</td>\n",
       "      <td>89.0</td>\n",
       "      <td>2016-01-03</td>\n",
       "    </tr>\n",
       "  </tbody>\n",
       "</table>\n",
       "</div>"
      ],
      "text/plain": [
       "        GÜN  SICAKLIK  ELEKTRİK    MESKEN  ENDÜSTRİ    New_DATE\n",
       "0  1/1/2016     -11.1   6888.86  168472.0      89.0  2016-01-01\n",
       "1  1/2/2016     -14.2   7251.91  168472.0      89.0  2016-01-02\n",
       "2  1/3/2016     -17.0   7372.09  168472.0      89.0  2016-01-03"
      ]
     },
     "execution_count": 7,
     "metadata": {},
     "output_type": "execute_result"
    }
   ],
   "source": [
    "df1.head(3)"
   ]
  },
  {
   "cell_type": "code",
   "execution_count": 8,
   "metadata": {},
   "outputs": [
    {
     "data": {
      "text/html": [
       "<div>\n",
       "<style scoped>\n",
       "    .dataframe tbody tr th:only-of-type {\n",
       "        vertical-align: middle;\n",
       "    }\n",
       "\n",
       "    .dataframe tbody tr th {\n",
       "        vertical-align: top;\n",
       "    }\n",
       "\n",
       "    .dataframe thead th {\n",
       "        text-align: right;\n",
       "    }\n",
       "</style>\n",
       "<table border=\"1\" class=\"dataframe\">\n",
       "  <thead>\n",
       "    <tr style=\"text-align: right;\">\n",
       "      <th></th>\n",
       "      <th>GÜN</th>\n",
       "      <th>SICAKLIK</th>\n",
       "      <th>ELEKTRİK</th>\n",
       "      <th>MESKEN</th>\n",
       "      <th>ENDÜSTRİ</th>\n",
       "      <th>New_DATE</th>\n",
       "    </tr>\n",
       "  </thead>\n",
       "  <tbody>\n",
       "    <tr>\n",
       "      <th>515</th>\n",
       "      <td>5/30/2017</td>\n",
       "      <td>10.5</td>\n",
       "      <td>18494.5</td>\n",
       "      <td>178748.0</td>\n",
       "      <td>111.0</td>\n",
       "      <td>2017-05-30</td>\n",
       "    </tr>\n",
       "  </tbody>\n",
       "</table>\n",
       "</div>"
      ],
      "text/plain": [
       "           GÜN  SICAKLIK  ELEKTRİK    MESKEN  ENDÜSTRİ    New_DATE\n",
       "515  5/30/2017      10.5   18494.5  178748.0     111.0  2017-05-30"
      ]
     },
     "execution_count": 8,
     "metadata": {},
     "output_type": "execute_result"
    }
   ],
   "source": [
    "df1[df1[\"ELEKTRİK\"] == df[\"ELEKTRİK\"].max()]"
   ]
  },
  {
   "cell_type": "code",
   "execution_count": 9,
   "metadata": {},
   "outputs": [
    {
     "data": {
      "text/html": [
       "<div>\n",
       "<style scoped>\n",
       "    .dataframe tbody tr th:only-of-type {\n",
       "        vertical-align: middle;\n",
       "    }\n",
       "\n",
       "    .dataframe tbody tr th {\n",
       "        vertical-align: top;\n",
       "    }\n",
       "\n",
       "    .dataframe thead th {\n",
       "        text-align: right;\n",
       "    }\n",
       "</style>\n",
       "<table border=\"1\" class=\"dataframe\">\n",
       "  <thead>\n",
       "    <tr style=\"text-align: right;\">\n",
       "      <th></th>\n",
       "      <th>GÜN</th>\n",
       "      <th>SICAKLIK</th>\n",
       "      <th>ELEKTRİK</th>\n",
       "      <th>MESKEN</th>\n",
       "      <th>ENDÜSTRİ</th>\n",
       "      <th>New_DATE</th>\n",
       "    </tr>\n",
       "  </thead>\n",
       "  <tbody>\n",
       "    <tr>\n",
       "      <th>187</th>\n",
       "      <td>7/6/2016</td>\n",
       "      <td>18.1</td>\n",
       "      <td>3317.68</td>\n",
       "      <td>171518.0</td>\n",
       "      <td>89.0</td>\n",
       "      <td>2016-07-06</td>\n",
       "    </tr>\n",
       "  </tbody>\n",
       "</table>\n",
       "</div>"
      ],
      "text/plain": [
       "          GÜN  SICAKLIK  ELEKTRİK    MESKEN  ENDÜSTRİ    New_DATE\n",
       "187  7/6/2016      18.1   3317.68  171518.0      89.0  2016-07-06"
      ]
     },
     "execution_count": 9,
     "metadata": {},
     "output_type": "execute_result"
    }
   ],
   "source": [
    "df1[df1[\"ELEKTRİK\"] == df[\"ELEKTRİK\"].min()]"
   ]
  },
  {
   "cell_type": "code",
   "execution_count": 10,
   "metadata": {},
   "outputs": [
    {
     "data": {
      "text/plain": [
       "<matplotlib.axes._subplots.AxesSubplot at 0x2733d1968b0>"
      ]
     },
     "execution_count": 10,
     "metadata": {},
     "output_type": "execute_result"
    },
    {
     "data": {
      "image/png": "[encoded data removed]",
      "text/plain": [
       "<Figure size 432x288 with 1 Axes>"
      ]
     },
     "metadata": {
      "needs_background": "light"
     },
     "output_type": "display_data"
    }
   ],
   "source": [
    "sns.distplot(df1[\"ELEKTRİK\"])"
   ]
  },
  {
   "cell_type": "code",
   "execution_count": 11,
   "metadata": {},
   "outputs": [
    {
     "data": {
      "text/plain": [
       "<matplotlib.axes._subplots.AxesSubplot at 0x2733f4e53d0>"
      ]
     },
     "execution_count": 11,
     "metadata": {},
     "output_type": "execute_result"
    },
    {
     "data": {
      "image/png": "[encoded data removed]",
      "text/plain": [
       "<Figure size 432x288 with 1 Axes>"
      ]
     },
     "metadata": {
      "needs_background": "light"
     },
     "output_type": "display_data"
    }
   ],
   "source": [
    "sns.lineplot(x = df1[\"SICAKLIK\"], y = df1[\"ELEKTRİK\"], data = df1)"
   ]
  },
  {
   "cell_type": "code",
   "execution_count": 12,
   "metadata": {},
   "outputs": [
    {
     "data": {
      "text/plain": [
       "<seaborn.axisgrid.JointGrid at 0x2733f56b850>"
      ]
     },
     "execution_count": 12,
     "metadata": {},
     "output_type": "execute_result"
    },
    {
     "data": {
      "image/png": "[encoded data removed]",
      "text/plain": [
       "<Figure size 432x432 with 3 Axes>"
      ]
     },
     "metadata": {
      "needs_background": "light"
     },
     "output_type": "display_data"
    }
   ],
   "source": [
    "sns.jointplot(x = df1[\"SICAKLIK\"],\n",
    "              y = df1[\"ELEKTRİK\"],\n",
    "              data = df1,\n",
    "              kind = \"reg\")"
   ]
  },
  {
   "cell_type": "code",
   "execution_count": 13,
   "metadata": {},
   "outputs": [
    {
     "data": {
      "text/plain": [
       "<seaborn.axisgrid.JointGrid at 0x2733f8b26a0>"
      ]
     },
     "execution_count": 13,
     "metadata": {},
     "output_type": "execute_result"
    },
    {
     "data": {
      "image/png": "[encoded data removed]",
      "text/plain": [
       "<Figure size 432x432 with 3 Axes>"
      ]
     },
     "metadata": {
      "needs_background": "light"
     },
     "output_type": "display_data"
    }
   ],
   "source": [
    "sns.jointplot(x = df1[\"SICAKLIK\"],\n",
    "              y = df1[\"ELEKTRİK\"],\n",
    "              data = df1,\n",
    "              kind = \"kde\")"
   ]
  },
  {
   "cell_type": "code",
   "execution_count": 14,
   "metadata": {},
   "outputs": [
    {
     "data": {
      "text/plain": [
       "<matplotlib.axes._subplots.AxesSubplot at 0x2733fa2d730>"
      ]
     },
     "execution_count": 14,
     "metadata": {},
     "output_type": "execute_result"
    },
    {
     "data": {
      "image/png": "[encoded data removed]",
      "text/plain": [
       "<Figure size 432x288 with 1 Axes>"
      ]
     },
     "metadata": {
      "needs_background": "light"
     },
     "output_type": "display_data"
    }
   ],
   "source": [
    "sns.lineplot(x = df1[\"New_DATE\"], y = df1[\"ELEKTRİK\"], data = df1)"
   ]
  },
  {
   "cell_type": "code",
   "execution_count": 15,
   "metadata": {},
   "outputs": [
    {
     "data": {
      "text/html": [
       "<div>\n",
       "<style scoped>\n",
       "    .dataframe tbody tr th:only-of-type {\n",
       "        vertical-align: middle;\n",
       "    }\n",
       "\n",
       "    .dataframe tbody tr th {\n",
       "        vertical-align: top;\n",
       "    }\n",
       "\n",
       "    .dataframe thead th {\n",
       "        text-align: right;\n",
       "    }\n",
       "</style>\n",
       "<table border=\"1\" class=\"dataframe\">\n",
       "  <thead>\n",
       "    <tr style=\"text-align: right;\">\n",
       "      <th></th>\n",
       "      <th>GÜN</th>\n",
       "      <th>SICAKLIK</th>\n",
       "      <th>ELEKTRİK</th>\n",
       "      <th>MESKEN</th>\n",
       "      <th>ENDÜSTRİ</th>\n",
       "      <th>New_DATE</th>\n",
       "    </tr>\n",
       "  </thead>\n",
       "  <tbody>\n",
       "    <tr>\n",
       "      <th>0</th>\n",
       "      <td>1/1/2016</td>\n",
       "      <td>-11.1</td>\n",
       "      <td>6888.86</td>\n",
       "      <td>168472.0</td>\n",
       "      <td>89.0</td>\n",
       "      <td>2016-01-01</td>\n",
       "    </tr>\n",
       "    <tr>\n",
       "      <th>1</th>\n",
       "      <td>1/2/2016</td>\n",
       "      <td>-14.2</td>\n",
       "      <td>7251.91</td>\n",
       "      <td>168472.0</td>\n",
       "      <td>89.0</td>\n",
       "      <td>2016-01-02</td>\n",
       "    </tr>\n",
       "  </tbody>\n",
       "</table>\n",
       "</div>"
      ],
      "text/plain": [
       "        GÜN  SICAKLIK  ELEKTRİK    MESKEN  ENDÜSTRİ    New_DATE\n",
       "0  1/1/2016     -11.1   6888.86  168472.0      89.0  2016-01-01\n",
       "1  1/2/2016     -14.2   7251.91  168472.0      89.0  2016-01-02"
      ]
     },
     "execution_count": 15,
     "metadata": {},
     "output_type": "execute_result"
    }
   ],
   "source": [
    "df1.head(2)"
   ]
  },
  {
   "cell_type": "code",
   "execution_count": 16,
   "metadata": {},
   "outputs": [],
   "source": [
    "X = df1.iloc[:, 1].values"
   ]
  },
  {
   "cell_type": "code",
   "execution_count": 17,
   "metadata": {},
   "outputs": [],
   "source": [
    "Y = df1.iloc[:, 2].values"
   ]
  },
  {
   "cell_type": "code",
   "execution_count": 18,
   "metadata": {},
   "outputs": [],
   "source": [
    "from sklearn.model_selection import train_test_split\n",
    "X_train, X_test, Y_train, Y_test = train_test_split( X, Y, test_size=0.2, random_state=0)"
   ]
  },
  {
   "cell_type": "code",
   "execution_count": 19,
   "metadata": {},
   "outputs": [],
   "source": [
    "from sklearn.linear_model import LinearRegression"
   ]
  },
  {
   "cell_type": "code",
   "execution_count": 20,
   "metadata": {},
   "outputs": [],
   "source": [
    "regressor = LinearRegression()"
   ]
  },
  {
   "cell_type": "code",
   "execution_count": 21,
   "metadata": {},
   "outputs": [],
   "source": [
    "X_train = X_train.reshape(-1, 1)\n",
    "X_test = X_test.reshape(-1, 1)\n",
    "Y_train = Y_train.reshape(-1, 1)"
   ]
  },
  {
   "cell_type": "code",
   "execution_count": 22,
   "metadata": {},
   "outputs": [
    {
     "data": {
      "text/plain": [
       "LinearRegression()"
      ]
     },
     "execution_count": 22,
     "metadata": {},
     "output_type": "execute_result"
    }
   ],
   "source": [
    "regressor.fit(X_train,Y_train)"
   ]
  },
  {
   "cell_type": "code",
   "execution_count": 23,
   "metadata": {},
   "outputs": [],
   "source": [
    "y_pred= regressor.predict(X_test)"
   ]
  },
  {
   "cell_type": "code",
   "execution_count": 24,
   "metadata": {},
   "outputs": [
    {
     "name": "stdout",
     "output_type": "stream",
     "text": [
      "[[4756.93166537]\n",
      " [4981.08587341]\n",
      " [6690.2617097 ]\n",
      " [6795.33399472]\n",
      " [6662.2424337 ]\n",
      " [6003.78944759]\n",
      " [5807.65451555]\n",
      " [6571.17978668]\n",
      " [5891.71234357]\n",
      " [7719.97010288]\n",
      " [7166.58940178]\n",
      " [6557.17014868]\n",
      " [6185.91474162]\n",
      " [5275.28827146]\n",
      " [5128.18707244]\n",
      " [5198.23526245]\n",
      " [4925.0473214 ]\n",
      " [5793.64487755]\n",
      " [6858.37736573]\n",
      " [6326.01112164]\n",
      " [4798.96057938]\n",
      " [6227.94365562]\n",
      " [5982.77499058]\n",
      " [5569.49066951]\n",
      " [6998.47374576]\n",
      " [4812.97021738]\n",
      " [4644.85456136]\n",
      " [4623.84010435]\n",
      " [4932.0521404 ]\n",
      " [5618.52440252]\n",
      " [6403.06413065]\n",
      " [4714.90275137]\n",
      " [5513.4521175 ]\n",
      " [4883.0184074 ]\n",
      " [7068.52193577]\n",
      " [6872.38700373]\n",
      " [4939.05695941]\n",
      " [4742.92202737]\n",
      " [6515.14123467]\n",
      " [6248.95811263]\n",
      " [5744.61114454]\n",
      " [7243.6424108 ]\n",
      " [5765.62560155]\n",
      " [6494.12677767]\n",
      " [4581.81119034]\n",
      " [5009.10514942]\n",
      " [6732.29062371]\n",
      " [5212.24490045]\n",
      " [7215.62313479]\n",
      " [5933.74125757]\n",
      " [5590.50512652]\n",
      " [4518.76781933]\n",
      " [5695.57741153]\n",
      " [5128.18707244]\n",
      " [4679.87865636]\n",
      " [6494.12677767]\n",
      " [6283.98220763]\n",
      " [5919.73161957]\n",
      " [4623.84010435]\n",
      " [7026.49302176]\n",
      " [5772.63042055]\n",
      " [7264.6568678 ]\n",
      " [4883.0184074 ]\n",
      " [4812.97021738]\n",
      " [4932.0521404 ]\n",
      " [5247.26899546]\n",
      " [5891.71234357]\n",
      " [6501.13159667]\n",
      " [5513.4521175 ]\n",
      " [5828.66897256]\n",
      " [5436.39910849]\n",
      " [4798.96057938]\n",
      " [6157.89546561]\n",
      " [4567.80155234]\n",
      " [5765.62560155]\n",
      " [6487.12195867]\n",
      " [6115.86655161]\n",
      " [4560.79673334]\n",
      " [7860.0664829 ]\n",
      " [6059.8279996 ]\n",
      " [4854.99913139]\n",
      " [6122.87137061]\n",
      " [4869.00876939]\n",
      " [6185.91474162]\n",
      " [5814.65933455]\n",
      " [5079.15333943]\n",
      " [4595.82082835]\n",
      " [5387.36537548]\n",
      " [4616.83528535]\n",
      " [5205.24008145]\n",
      " [6571.17978668]\n",
      " [6080.8424566 ]\n",
      " [4833.98467439]\n",
      " [4511.76300033]\n",
      " [5331.32682347]\n",
      " [6115.86655161]\n",
      " [5716.59186854]\n",
      " [4420.70035332]\n",
      " [4770.94130338]\n",
      " [6851.37254673]\n",
      " [5142.19671044]\n",
      " [5828.66897256]\n",
      " [6711.27616671]\n",
      " [5618.52440252]\n",
      " [6276.97738863]\n",
      " [4840.98949339]\n",
      " [5681.56777353]\n",
      " [5219.24971945]\n",
      " [5947.75089558]\n",
      " [7404.75324782]\n",
      " [5639.53885952]\n",
      " [4707.89793237]\n",
      " [5107.17261543]\n",
      " [6080.8424566 ]\n",
      " [6662.2424337 ]\n",
      " [5429.39428949]\n",
      " [5121.18225344]\n",
      " [5457.41356549]\n",
      " [5548.47621251]\n",
      " [6038.81354259]\n",
      " [6473.11232067]\n",
      " [5030.11960642]\n",
      " [6283.98220763]\n",
      " [6739.29544271]\n",
      " [5863.69306756]\n",
      " [5555.48103151]\n",
      " [6297.99184564]\n",
      " [5086.15815843]\n",
      " [7180.59903979]\n",
      " [6592.19424369]\n",
      " [5912.72680057]\n",
      " [4497.75336233]\n",
      " [6038.81354259]\n",
      " [5877.70270557]\n",
      " [7299.68096281]\n",
      " [6501.13159667]\n",
      " [5688.57259253]\n",
      " [5436.39910849]\n",
      " [5345.33646147]\n",
      " [5023.11478742]\n",
      " [5646.54367853]\n",
      " [5702.58223054]\n",
      " [4546.78709534]\n",
      " [5940.74607658]\n",
      " [5884.70752457]\n",
      " [5233.25935746]\n",
      " [4749.92684637]]\n"
     ]
    }
   ],
   "source": [
    "print(y_pred)"
   ]
  },
  {
   "cell_type": "code",
   "execution_count": 25,
   "metadata": {},
   "outputs": [
    {
     "name": "stdout",
     "output_type": "stream",
     "text": [
      "[6248.95811263]\n"
     ]
    }
   ],
   "source": [
    "print(regressor.intercept_)"
   ]
  },
  {
   "cell_type": "code",
   "execution_count": 26,
   "metadata": {},
   "outputs": [
    {
     "name": "stdout",
     "output_type": "stream",
     "text": [
      "[[-70.04819001]]\n"
     ]
    }
   ],
   "source": [
    "print(regressor.coef_)"
   ]
  },
  {
   "cell_type": "code",
   "execution_count": 27,
   "metadata": {},
   "outputs": [
    {
     "name": "stdout",
     "output_type": "stream",
     "text": [
      "147\n"
     ]
    }
   ],
   "source": [
    "print(len(y_pred))"
   ]
  },
  {
   "cell_type": "code",
   "execution_count": 28,
   "metadata": {},
   "outputs": [
    {
     "name": "stdout",
     "output_type": "stream",
     "text": [
      "Const: \n",
      " [6248.95811263]\n",
      "Coefficients: \n",
      " [[-70.04819001]]\n"
     ]
    }
   ],
   "source": [
    "print('Const: \\n', regressor.intercept_)\n",
    "print('Coefficients: \\n', regressor.coef_)"
   ]
  },
  {
   "cell_type": "code",
   "execution_count": 29,
   "metadata": {},
   "outputs": [
    {
     "data": {
      "text/plain": [
       "<matplotlib.axes._subplots.AxesSubplot at 0x2733faa3b80>"
      ]
     },
     "execution_count": 29,
     "metadata": {},
     "output_type": "execute_result"
    },
    {
     "data": {
      "image/png": "[encoded data removed]",
      "text/plain": [
       "<Figure size 864x864 with 1 Axes>"
      ]
     },
     "metadata": {
      "needs_background": "light"
     },
     "output_type": "display_data"
    }
   ],
   "source": [
    "import matplotlib.pyplot as plt\n",
    "width = 12\n",
    "height = 12\n",
    "plt.figure(figsize=(width,height))\n",
    "sns.lineplot(x = df1[\"New_DATE\"], y = df1[\"ELEKTRİK\"], data = df1)"
   ]
  },
  {
   "cell_type": "code",
   "execution_count": 30,
   "metadata": {},
   "outputs": [
    {
     "data": {
      "text/plain": [
       "<seaborn.axisgrid.JointGrid at 0x2733fb07c40>"
      ]
     },
     "execution_count": 30,
     "metadata": {},
     "output_type": "execute_result"
    },
    {
     "data": {
      "text/plain": [
       "<Figure size 864x864 with 0 Axes>"
      ]
     },
     "metadata": {},
     "output_type": "display_data"
    },
    {
     "data": {
      "image/png": "[encoded data removed]",
      "text/plain": [
       "<Figure size 432x432 with 3 Axes>"
      ]
     },
     "metadata": {
      "needs_background": "light"
     },
     "output_type": "display_data"
    }
   ],
   "source": [
    "\n",
    "import matplotlib.pyplot as plt\n",
    "width = 12\n",
    "height = 12\n",
    "plt.figure(figsize=(width,height))\n",
    "sns.jointplot(x = df1[\"SICAKLIK\"],\n",
    "              y = df1[\"ELEKTRİK\"],\n",
    "              data = df1,\n",
    "              kind = \"kde\")"
   ]
  },
  {
   "cell_type": "code",
   "execution_count": 31,
   "metadata": {},
   "outputs": [
    {
     "data": {
      "text/html": [
       "<div>\n",
       "<style scoped>\n",
       "    .dataframe tbody tr th:only-of-type {\n",
       "        vertical-align: middle;\n",
       "    }\n",
       "\n",
       "    .dataframe tbody tr th {\n",
       "        vertical-align: top;\n",
       "    }\n",
       "\n",
       "    .dataframe thead th {\n",
       "        text-align: right;\n",
       "    }\n",
       "</style>\n",
       "<table border=\"1\" class=\"dataframe\">\n",
       "  <thead>\n",
       "    <tr style=\"text-align: right;\">\n",
       "      <th></th>\n",
       "      <th>Actual</th>\n",
       "      <th>Predicted</th>\n",
       "    </tr>\n",
       "  </thead>\n",
       "  <tbody>\n",
       "    <tr>\n",
       "      <th>0</th>\n",
       "      <td>4588.49</td>\n",
       "      <td>4756.931665</td>\n",
       "    </tr>\n",
       "    <tr>\n",
       "      <th>1</th>\n",
       "      <td>3317.68</td>\n",
       "      <td>4981.085873</td>\n",
       "    </tr>\n",
       "    <tr>\n",
       "      <th>2</th>\n",
       "      <td>6782.05</td>\n",
       "      <td>6690.261710</td>\n",
       "    </tr>\n",
       "    <tr>\n",
       "      <th>3</th>\n",
       "      <td>7661.37</td>\n",
       "      <td>6795.333995</td>\n",
       "    </tr>\n",
       "    <tr>\n",
       "      <th>4</th>\n",
       "      <td>6977.00</td>\n",
       "      <td>6662.242434</td>\n",
       "    </tr>\n",
       "    <tr>\n",
       "      <th>...</th>\n",
       "      <td>...</td>\n",
       "      <td>...</td>\n",
       "    </tr>\n",
       "    <tr>\n",
       "      <th>142</th>\n",
       "      <td>5013.30</td>\n",
       "      <td>4546.787095</td>\n",
       "    </tr>\n",
       "    <tr>\n",
       "      <th>143</th>\n",
       "      <td>6508.70</td>\n",
       "      <td>5940.746077</td>\n",
       "    </tr>\n",
       "    <tr>\n",
       "      <th>144</th>\n",
       "      <td>4624.32</td>\n",
       "      <td>5884.707525</td>\n",
       "    </tr>\n",
       "    <tr>\n",
       "      <th>145</th>\n",
       "      <td>5354.50</td>\n",
       "      <td>5233.259357</td>\n",
       "    </tr>\n",
       "    <tr>\n",
       "      <th>146</th>\n",
       "      <td>4489.54</td>\n",
       "      <td>4749.926846</td>\n",
       "    </tr>\n",
       "  </tbody>\n",
       "</table>\n",
       "<p>147 rows × 2 columns</p>\n",
       "</div>"
      ],
      "text/plain": [
       "      Actual    Predicted\n",
       "0    4588.49  4756.931665\n",
       "1    3317.68  4981.085873\n",
       "2    6782.05  6690.261710\n",
       "3    7661.37  6795.333995\n",
       "4    6977.00  6662.242434\n",
       "..       ...          ...\n",
       "142  5013.30  4546.787095\n",
       "143  6508.70  5940.746077\n",
       "144  4624.32  5884.707525\n",
       "145  5354.50  5233.259357\n",
       "146  4489.54  4749.926846\n",
       "\n",
       "[147 rows x 2 columns]"
      ]
     },
     "execution_count": 31,
     "metadata": {},
     "output_type": "execute_result"
    }
   ],
   "source": [
    "df = pd.DataFrame({'Actual': Y_test.flatten(), 'Predicted': y_pred.flatten()})\n",
    "df"
   ]
  },
  {
   "cell_type": "code",
   "execution_count": 32,
   "metadata": {},
   "outputs": [
    {
     "data": {
      "image/png": "[encoded data removed]",
      "text/plain": [
       "<Figure size 1152x720 with 1 Axes>"
      ]
     },
     "metadata": {
      "needs_background": "light"
     },
     "output_type": "display_data"
    }
   ],
   "source": [
    "df1 = df.head(25)\n",
    "df1.plot(kind='bar',figsize=(16,10))\n",
    "plt.grid(which='major', linestyle='-', linewidth='0.5', color='green')\n",
    "plt.grid(which='minor', linestyle=':', linewidth='0.5', color='black')\n",
    "plt.show()\n"
   ]
  },
  {
   "cell_type": "code",
   "execution_count": 33,
   "metadata": {},
   "outputs": [],
   "source": [
    "from sklearn import metrics"
   ]
  },
  {
   "cell_type": "code",
   "execution_count": 34,
   "metadata": {},
   "outputs": [
    {
     "name": "stdout",
     "output_type": "stream",
     "text": [
      "Mean Absolute Error: 416.28728071680877\n",
      "Mean Squared Error: 293658.07140716264\n",
      "Root Mean Squared Error: 541.9022710850755\n"
     ]
    }
   ],
   "source": [
    "print('Mean Absolute Error:', metrics.mean_absolute_error(Y_test, y_pred))  \n",
    "print('Mean Squared Error:', metrics.mean_squared_error(Y_test, y_pred))  \n",
    "print('Root Mean Squared Error:', np.sqrt(metrics.mean_squared_error(Y_test, y_pred)))"
   ]
  },
  {
   "cell_type": "code",
   "execution_count": null,
   "metadata": {},
   "outputs": [],
   "source": []
  },
  {
   "cell_type": "code",
   "execution_count": null,
   "metadata": {},
   "outputs": [],
   "source": []
  },
  {
   "cell_type": "code",
   "execution_count": null,
   "metadata": {},
   "outputs": [],
   "source": []
  },
  {
   "cell_type": "code",
   "execution_count": null,
   "metadata": {},
   "outputs": [],
   "source": []
  }
 ],
 "metadata": {
  "kernelspec": {
   "display_name": "Python 3",
   "language": "python",
   "name": "python3"
  },
  "language_info": {
   "codemirror_mode": {
    "name": "ipython",
    "version": 3
   },
   "file_extension": ".py",
   "mimetype": "text/x-python",
   "name": "python",
   "nbconvert_exporter": "python",
   "pygments_lexer": "ipython3",
   "version": "3.8.3"
  }
 },
 "nbformat": 4,
 "nbformat_minor": 4
}
